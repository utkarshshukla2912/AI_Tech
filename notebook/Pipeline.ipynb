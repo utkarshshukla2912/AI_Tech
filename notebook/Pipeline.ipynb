{
 "cells": [
  {
   "cell_type": "code",
   "execution_count": 1,
   "metadata": {},
   "outputs": [],
   "source": [
    "import warnings\n",
    "warnings.filterwarnings('ignore')\n",
    "\n",
    "from sklearn.preprocessing import StandardScaler\n",
    "from feature import featureExtractionPipeline\n",
    "from scipy.stats import kurtosis, skew\n",
    "from tqdm import tqdm_notebook as tqdm\n",
    "from pyprep.noisy import Noisydata\n",
    "from multiprocessing import Pool \n",
    "import matplotlib.pyplot as plt\n",
    "import pandas as pd\n",
    "import numpy as np\n",
    "import glob\n",
    "import mne\n",
    "import os"
   ]
  },
  {
   "cell_type": "code",
   "execution_count": 2,
   "metadata": {},
   "outputs": [],
   "source": [
    "def getMneRaw(data_to_process):\n",
    "    sfreq = 128\n",
    "    channel_names = ['F3', 'Fz', 'F4', 'C3', 'Cz', 'C4', 'P3',\n",
    "                     'P4', 'FC5', 'FC1', 'FC2', 'FC4', 'CP5',\n",
    "                     'CP1', 'CP2', 'CP4']\n",
    "    channel_type = {k:'eeg' for k in channel_names}\n",
    "    info = mne.create_info(channel_names, sfreq,verbose=False)\n",
    "    raw = mne.io.RawArray(data_to_process, info, verbose=False)\n",
    "    raw.set_channel_types(channel_type)\n",
    "    montage = mne.channels.read_montage('standard_1020')\n",
    "    raw.set_montage(montage,verbose=False)\n",
    "    raw.filter(0,50,fir_design='firwin',verbose=False)\n",
    "    return raw\n",
    "\n",
    "def getFileInfo(file_path):\n",
    "    try:\n",
    "        raw_data = pd.read_csv(file_path,header=None)\n",
    "        data_to_process = raw_data[:-1]\n",
    "        label = int( list(set(raw_data.iloc[len(raw_data) -1 ].values))[0] )\n",
    "        raw = getMneRaw(data_to_process)\n",
    "        return [ raw, label ]\n",
    "    except:\n",
    "        return [0, 0]\n",
    "    \n",
    "def getChannelFeatures(raw_data_with_label):\n",
    "    try:\n",
    "        raw_data = raw_data_with_label[0]\n",
    "        label = raw_data_with_label[1]\n",
    "        channels = raw_data.get_data()\n",
    "        features = []\n",
    "        for channel in channels:\n",
    "            feature = featureExtractionPipeline(channel).runPipeline()\n",
    "            feature = sum(feature, [])\n",
    "            features.append( feature )\n",
    "        feature_df = pd.DataFrame( features )\n",
    "        feature_df = feature_df.drop([15,16], axis=1)\n",
    "        feature_df['label'] = label\n",
    "        return feature_df\n",
    "    except:\n",
    "        pass\n",
    "    \n",
    "def getAlphaBeta(raw_data):\n",
    "    alpha = raw_data.copy()\n",
    "    beta = raw_data.copy()\n",
    "    alpha = alpha.filter(8,13)\n",
    "    beta = beta.filter(13,30)\n",
    "    return [alpha, beta]"
   ]
  },
  {
   "cell_type": "code",
   "execution_count": 3,
   "metadata": {},
   "outputs": [],
   "source": [
    "files = glob.glob('../data/2colourswifi_transition/*.csv')"
   ]
  },
  {
   "cell_type": "code",
   "execution_count": 4,
   "metadata": {},
   "outputs": [
    {
     "data": {
      "application/vnd.jupyter.widget-view+json": {
       "model_id": "1cf77203133b4bf495364452b0d6d6e3",
       "version_major": 2,
       "version_minor": 0
      },
      "text/plain": [
       "HBox(children=(IntProgress(value=0, max=288), HTML(value='')))"
      ]
     },
     "metadata": {},
     "output_type": "display_data"
    },
    {
     "name": "stdout",
     "output_type": "stream",
     "text": [
      "\n"
     ]
    }
   ],
   "source": [
    "raw_data_list = []\n",
    "for i in tqdm(files):\n",
    "    raw_data_label = getFileInfo(i)\n",
    "    raw_data_list.append( getAlphaBeta( raw_data_label[0] ) + [raw_data_label[1]] )\n",
    "    break"
   ]
  },
  {
   "cell_type": "code",
   "execution_count": 5,
   "metadata": {},
   "outputs": [],
   "source": [
    "temp = raw_data_list[0][0].get_data()[0]"
   ]
  },
  {
   "cell_type": "code",
   "execution_count": 7,
   "metadata": {},
   "outputs": [
    {
     "data": {
      "text/plain": [
       "[-1.6590953190410335e-07,\n",
       " 1.7378744302480348e-05,\n",
       " -1.7155400316652635e-15,\n",
       " 5.95462694912169e-19,\n",
       " 0.5485269646340741,\n",
       " 3.4847470763356266e-06,\n",
       " 6.969494152671253e-09,\n",
       " -2.8746348456023505e-05,\n",
       " 2.9231145349918257e-05,\n",
       " 4.791540409262503e-06,\n",
       " 1.4740221725525295e-17,\n",
       " 5.900979013562386e-21,\n",
       " 1.1479454033722118e-08,\n",
       " 0.012197523107014694,\n",
       " 38.85704452745294,\n",
       " 0.00030204827950377003,\n",
       " 0.038278958815092044,\n",
       " 0.14694565409378293,\n",
       " 0.16418662307500695,\n",
       " 0.10447438544090203,\n",
       " 0.01549886790111525]"
      ]
     },
     "execution_count": 7,
     "metadata": {},
     "output_type": "execute_result"
    }
   ],
   "source": [
    "featureExtractionPipeline(temp[:1000]).runPipeline()"
   ]
  },
  {
   "cell_type": "code",
   "execution_count": 8,
   "metadata": {},
   "outputs": [
    {
     "data": {
      "text/plain": [
       "(14023,)"
      ]
     },
     "execution_count": 8,
     "metadata": {},
     "output_type": "execute_result"
    }
   ],
   "source": [
    "temp.shape"
   ]
  },
  {
   "cell_type": "code",
   "execution_count": null,
   "metadata": {},
   "outputs": [],
   "source": []
  },
  {
   "cell_type": "code",
   "execution_count": null,
   "metadata": {},
   "outputs": [],
   "source": [
    "'''\n",
    "feature_array = []\n",
    "for i in tqdm(raw_data_list):\n",
    "    feature_array.append( getChannelFeatures(i) )\n",
    "'''"
   ]
  }
 ],
 "metadata": {
  "kernelspec": {
   "display_name": "Python 3",
   "language": "python",
   "name": "python3"
  },
  "language_info": {
   "codemirror_mode": {
    "name": "ipython",
    "version": 3
   },
   "file_extension": ".py",
   "mimetype": "text/x-python",
   "name": "python",
   "nbconvert_exporter": "python",
   "pygments_lexer": "ipython3",
   "version": "3.6.6"
  }
 },
 "nbformat": 4,
 "nbformat_minor": 2
}
