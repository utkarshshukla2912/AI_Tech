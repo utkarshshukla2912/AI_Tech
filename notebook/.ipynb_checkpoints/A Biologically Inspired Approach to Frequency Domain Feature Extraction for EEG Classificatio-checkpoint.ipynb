{
 "cells": [
  {
   "cell_type": "code",
   "execution_count": 2,
   "metadata": {},
   "outputs": [
    {
     "name": "stderr",
     "output_type": "stream",
     "text": [
      "Using TensorFlow backend.\n"
     ]
    }
   ],
   "source": [
    "from sklearn.preprocessing import LabelEncoder, OneHotEncoder, StandardScaler\n",
    "from sklearn.metrics import classification_report, confusion_matrix\n",
    "from imblearn.metrics import sensitivity_specificity_support\n",
    "from sklearn.model_selection import train_test_split\n",
    "from sklearn.utils.multiclass import unique_labels\n",
    "from tqdm import tqdm_notebook as tqdm\n",
    "from scipy.integrate import simps\n",
    "import matplotlib.pyplot as plt\n",
    "from scipy import signal\n",
    "import seaborn as sns\n",
    "import pandas as pd\n",
    "import numpy as np\n",
    "import warnings\n",
    "import glob\n",
    "import mne\n",
    "import os\n",
    "\n",
    "\n",
    "\n",
    "warnings.filterwarnings('ignore')"
   ]
  },
  {
   "cell_type": "code",
   "execution_count": 7,
   "metadata": {},
   "outputs": [],
   "source": [
    "def removeMeanFromChannels(channel_data):\n",
    "    channel_data = channel_data.transpose()\n",
    "    scaled_data = StandardScaler(with_std = False).fit_transform(channel_data)\n",
    "    return scaled_data.transpose()\n",
    "    \n",
    "def getMneRaw(data_to_process):\n",
    "    sfreq = 128\n",
    "    channel_names = ['F3', 'Fz', 'F4', 'C3', 'Cz', 'C4', 'P3',\n",
    "                     'P4', 'FC5', 'FC1', 'FC2', 'FC4', 'CP5',\n",
    "                     'CP1', 'CP2', 'CP4']\n",
    "    channel_type = {k:'eeg' for k in channel_names}\n",
    "    info = mne.create_info(channel_names, sfreq,verbose=False)\n",
    "    raw = mne.io.RawArray(removeMeanFromChannels(data_to_process), info, verbose=False)\n",
    "    raw.set_channel_types(channel_type)\n",
    "    montage = mne.channels.read_montage('standard_1020')\n",
    "    raw.set_montage(montage,verbose=False)\n",
    "    raw.filter(0,50,fir_design='firwin',verbose=False)\n",
    "    return raw\n",
    "\n",
    "def getFileInfo(file_path):\n",
    "    try:\n",
    "        raw_data = pd.read_csv(file_path,header=None)\n",
    "        data_to_process = raw_data[:-1]\n",
    "        label = int( list(set(raw_data.iloc[len(raw_data) -1 ].values))[0] )\n",
    "        raw = getMneRaw(data_to_process)\n",
    "        return [ raw, label ]\n",
    "    except:\n",
    "        return [0, 0]\n",
    "    \n",
    "def getPSDFeatures(data):\n",
    "    sf = 128\n",
    "    window = 2*sf\n",
    "    overlap = window//2\n",
    "    freqs, psd = signal.welch(data, sf, nperseg=window, noverlap = overlap)\n",
    "    alpha_indexes = np.where((freqs >= 8)&(freqs < 13))\n",
    "    alpha_values = psd[alpha_indexes]\n",
    "    alpha_values.sort()\n",
    "\n",
    "    beta_indexes = np.where((freqs >= 13)&(freqs < 30))\n",
    "    beta_values = psd[beta_indexes]\n",
    "    beta_values.sort()\n",
    "    features = [alpha_values[-1],beta_values[-1],beta_values[-2]]\n",
    "    return features\n",
    "\n",
    "\n",
    "def bandpower(eeg,sf=128,window_sec=None, relative=False):\n",
    "    band_power = {}\n",
    "    for channel_name,data in list(zip(eeg.info['ch_names'], eeg.get_data())):\n",
    "        band_dic = {}\n",
    "        for band_name in bands:\n",
    "            band = np.asarray(bands[band_name])\n",
    "            low, high = band\n",
    "            if window_sec is not None:\n",
    "                nperseg = window_sec * sf\n",
    "            else:\n",
    "                nperseg = (2 / low) * sf\n",
    "            freqs, psd = signal.welch(data, sf, nperseg=nperseg)\n",
    "            freq_res = freqs[1] - freqs[0]\n",
    "            idx_band = np.logical_and(freqs >= low, freqs <= high)\n",
    "            bp = simps(psd[idx_band], dx=freq_res)\n",
    "            if relative:\n",
    "                bp /= simps(psd, dx=freq_res)\n",
    "            band_dic[band_name]= bp\n",
    "        band_power[channel_name] = band_dic\n",
    "    return band_power"
   ]
  },
  {
   "cell_type": "code",
   "execution_count": 4,
   "metadata": {},
   "outputs": [],
   "source": [
    "files = glob.glob('../data/open_bci/2colourswifi_transition/*.csv')\n",
    "bands = {\n",
    "    'alpha':[8,13],'beta':[13,30],'gamma':[30,200],\n",
    "'delta':[1,4],'theta':[4,8]\n",
    "}"
   ]
  },
  {
   "cell_type": "code",
   "execution_count": 8,
   "metadata": {},
   "outputs": [
    {
     "data": {
      "application/vnd.jupyter.widget-view+json": {
       "model_id": "3fb1bc81c6d647cdb8ac8e1f170f43fb",
       "version_major": 2,
       "version_minor": 0
      },
      "text/plain": [
       "HBox(children=(IntProgress(value=0, max=288), HTML(value='')))"
      ]
     },
     "metadata": {},
     "output_type": "display_data"
    },
    {
     "name": "stdout",
     "output_type": "stream",
     "text": [
      "\n"
     ]
    }
   ],
   "source": [
    "training_data_list = []\n",
    "training_label_list = []\n",
    "\n",
    "for i in tqdm(files):\n",
    "    raw_data_label = getFileInfo(i)\n",
    "    file_features = []\n",
    "    if raw_data_label[0] != 0:\n",
    "        band_feature = bandpower(raw_data_label[0])\n",
    "        for channel in band_feature:\n",
    "            file_features.append(list(band_feature[channel].values()))\n",
    "        break\n",
    "        '''\n",
    "        raw_data = raw_data_label[0].get_data()\n",
    "        label = raw_data_label[1]\n",
    "        for channel in raw_data:\n",
    "            training_data_list.append(getPSDFeatures(channel))\n",
    "        training_label_list.append(list(map(int,('{},'.format(label)*raw_data.shape[0]).split(',')[:-1])))\n",
    "        '''"
   ]
  },
  {
   "cell_type": "code",
   "execution_count": 15,
   "metadata": {},
   "outputs": [
    {
     "name": "stdout",
     "output_type": "stream",
     "text": [
      "[6.364429519938637e-09, 1.51816715713491e-09, 2.9590987703923743e-10, 2.535204695326041e-11, 2.1355025379543975e-08]\n",
      "[1.7879294057513403e-09, 4.972874697504084e-10, 1.8332226225494804e-10, 4.329324206287494e-11, 6.0886039271932916e-09]\n",
      "[1.6346289355306776e-08, 3.583945249914468e-09, 6.727950569404751e-10, 3.194454644974805e-11, 5.489606949986732e-08]\n",
      "[3.006683346679199e-09, 6.265584832847615e-10, 1.3790082793909014e-10, 2.4878682281726214e-11, 1.0094525597687092e-08]\n",
      "[3.264401328958905e-10, 1.3778813897300746e-10, 5.4710350925434166e-11, 2.2358148622010396e-11, 1.0452664882273415e-09]\n",
      "[1.147052164024975e-09, 3.125217472504673e-10, 7.47968486195624e-11, 2.2764484772000054e-11, 3.827183215580718e-09]\n",
      "[2.7140234861669213e-09, 5.788168871374607e-10, 1.083072898173398e-10, 2.4813962934003685e-11, 9.097073368257181e-09]\n",
      "[2.1564050415810278e-09, 4.5148291094986516e-10, 9.985792671053953e-11, 3.52852505911431e-11, 7.212017905150155e-09]\n",
      "[5.578812525895981e-09, 1.3612712110858756e-09, 3.811656956230428e-09, 2.5436400143700538e-11, 1.8712529615658545e-08]\n",
      "[3.4261460397443316e-09, 6.555210926825999e-10, 8.525171654933707e-10, 3.2106579908874006e-11, 1.1461571296140158e-08]\n",
      "[6.320725940919866e-09, 1.4311697374456537e-09, 1.919194363011449e-09, 2.5403247124231543e-11, 2.1214150431702963e-08]\n",
      "[3.424342397723625e-09, 6.632641008509441e-10, 3.945935909882504e-09, 2.1087077398136822e-11, 1.1495453526620769e-08]\n",
      "[1.9790246178068923e-09, 5.675388165943376e-10, 2.2714801157261058e-08, 1.7287093730640484e-11, 6.619226989084251e-09]\n",
      "[9.290015645045984e-10, 2.579478104428254e-10, 1.932990748691075e-09, 2.3871886533777246e-11, 3.0988449111418974e-09]\n",
      "[3.894111512790468e-10, 1.0573519531859502e-10, 2.7117332459651477e-09, 2.9947789960028896e-11, 1.276525690738808e-09]\n",
      "[8.103847070356483e-10, 1.9913346073027586e-10, 3.240338345424658e-09, 3.3394421674169725e-11, 2.6974196678046945e-09]\n"
     ]
    }
   ],
   "source": [
    "file_features = []\n",
    "for channel in band_feature:\n",
    "    print(list(band_feature[channel].values()))"
   ]
  },
  {
   "cell_type": "code",
   "execution_count": 16,
   "metadata": {},
   "outputs": [
    {
     "data": {
      "text/plain": [
       "{'F3': {'alpha': 6.364429519938637e-09,\n",
       "  'beta': 1.51816715713491e-09,\n",
       "  'gamma': 2.9590987703923743e-10,\n",
       "  'delta': 2.535204695326041e-11,\n",
       "  'theta': 2.1355025379543975e-08},\n",
       " 'Fz': {'alpha': 1.7879294057513403e-09,\n",
       "  'beta': 4.972874697504084e-10,\n",
       "  'gamma': 1.8332226225494804e-10,\n",
       "  'delta': 4.329324206287494e-11,\n",
       "  'theta': 6.0886039271932916e-09},\n",
       " 'F4': {'alpha': 1.6346289355306776e-08,\n",
       "  'beta': 3.583945249914468e-09,\n",
       "  'gamma': 6.727950569404751e-10,\n",
       "  'delta': 3.194454644974805e-11,\n",
       "  'theta': 5.489606949986732e-08},\n",
       " 'C3': {'alpha': 3.006683346679199e-09,\n",
       "  'beta': 6.265584832847615e-10,\n",
       "  'gamma': 1.3790082793909014e-10,\n",
       "  'delta': 2.4878682281726214e-11,\n",
       "  'theta': 1.0094525597687092e-08},\n",
       " 'Cz': {'alpha': 3.264401328958905e-10,\n",
       "  'beta': 1.3778813897300746e-10,\n",
       "  'gamma': 5.4710350925434166e-11,\n",
       "  'delta': 2.2358148622010396e-11,\n",
       "  'theta': 1.0452664882273415e-09},\n",
       " 'C4': {'alpha': 1.147052164024975e-09,\n",
       "  'beta': 3.125217472504673e-10,\n",
       "  'gamma': 7.47968486195624e-11,\n",
       "  'delta': 2.2764484772000054e-11,\n",
       "  'theta': 3.827183215580718e-09},\n",
       " 'P3': {'alpha': 2.7140234861669213e-09,\n",
       "  'beta': 5.788168871374607e-10,\n",
       "  'gamma': 1.083072898173398e-10,\n",
       "  'delta': 2.4813962934003685e-11,\n",
       "  'theta': 9.097073368257181e-09},\n",
       " 'P4': {'alpha': 2.1564050415810278e-09,\n",
       "  'beta': 4.5148291094986516e-10,\n",
       "  'gamma': 9.985792671053953e-11,\n",
       "  'delta': 3.52852505911431e-11,\n",
       "  'theta': 7.212017905150155e-09},\n",
       " 'FC5': {'alpha': 5.578812525895981e-09,\n",
       "  'beta': 1.3612712110858756e-09,\n",
       "  'gamma': 3.811656956230428e-09,\n",
       "  'delta': 2.5436400143700538e-11,\n",
       "  'theta': 1.8712529615658545e-08},\n",
       " 'FC1': {'alpha': 3.4261460397443316e-09,\n",
       "  'beta': 6.555210926825999e-10,\n",
       "  'gamma': 8.525171654933707e-10,\n",
       "  'delta': 3.2106579908874006e-11,\n",
       "  'theta': 1.1461571296140158e-08},\n",
       " 'FC2': {'alpha': 6.320725940919866e-09,\n",
       "  'beta': 1.4311697374456537e-09,\n",
       "  'gamma': 1.919194363011449e-09,\n",
       "  'delta': 2.5403247124231543e-11,\n",
       "  'theta': 2.1214150431702963e-08},\n",
       " 'FC4': {'alpha': 3.424342397723625e-09,\n",
       "  'beta': 6.632641008509441e-10,\n",
       "  'gamma': 3.945935909882504e-09,\n",
       "  'delta': 2.1087077398136822e-11,\n",
       "  'theta': 1.1495453526620769e-08},\n",
       " 'CP5': {'alpha': 1.9790246178068923e-09,\n",
       "  'beta': 5.675388165943376e-10,\n",
       "  'gamma': 2.2714801157261058e-08,\n",
       "  'delta': 1.7287093730640484e-11,\n",
       "  'theta': 6.619226989084251e-09},\n",
       " 'CP1': {'alpha': 9.290015645045984e-10,\n",
       "  'beta': 2.579478104428254e-10,\n",
       "  'gamma': 1.932990748691075e-09,\n",
       "  'delta': 2.3871886533777246e-11,\n",
       "  'theta': 3.0988449111418974e-09},\n",
       " 'CP2': {'alpha': 3.894111512790468e-10,\n",
       "  'beta': 1.0573519531859502e-10,\n",
       "  'gamma': 2.7117332459651477e-09,\n",
       "  'delta': 2.9947789960028896e-11,\n",
       "  'theta': 1.276525690738808e-09},\n",
       " 'CP4': {'alpha': 8.103847070356483e-10,\n",
       "  'beta': 1.9913346073027586e-10,\n",
       "  'gamma': 3.240338345424658e-09,\n",
       "  'delta': 3.3394421674169725e-11,\n",
       "  'theta': 2.6974196678046945e-09}}"
      ]
     },
     "execution_count": 16,
     "metadata": {},
     "output_type": "execute_result"
    }
   ],
   "source": [
    "band_feature"
   ]
  },
  {
   "cell_type": "code",
   "execution_count": null,
   "metadata": {},
   "outputs": [],
   "source": []
  },
  {
   "cell_type": "code",
   "execution_count": null,
   "metadata": {},
   "outputs": [],
   "source": []
  },
  {
   "cell_type": "code",
   "execution_count": null,
   "metadata": {},
   "outputs": [],
   "source": []
  },
  {
   "cell_type": "code",
   "execution_count": null,
   "metadata": {},
   "outputs": [],
   "source": []
  },
  {
   "cell_type": "code",
   "execution_count": 45,
   "metadata": {},
   "outputs": [],
   "source": [
    "X = np.array(training_data_list)\n",
    "Y = sum(training_label_list,[])"
   ]
  },
  {
   "cell_type": "code",
   "execution_count": 46,
   "metadata": {},
   "outputs": [],
   "source": [
    "x_train, x_test, y_train, y_test = train_test_split(X, Y, test_size = 0.3)"
   ]
  },
  {
   "cell_type": "code",
   "execution_count": 82,
   "metadata": {},
   "outputs": [],
   "source": [
    "from sklearn.neighbors import KNeighborsClassifier\n",
    "from sklearn.ensemble import RandomForestClassifier\n",
    "from sklearn.tree import DecisionTreeClassifier\n",
    "from sklearn.linear_model import LogisticRegression"
   ]
  },
  {
   "cell_type": "code",
   "execution_count": 90,
   "metadata": {},
   "outputs": [
    {
     "data": {
      "text/plain": [
       "0.5241935483870968"
      ]
     },
     "execution_count": 90,
     "metadata": {},
     "output_type": "execute_result"
    }
   ],
   "source": [
    "classifier = LogisticRegression()\n",
    "classifier.fit(x_train,y_train)\n",
    "y_pred = classifier.predict(x_test)\n",
    "classifier.score(x_test,y_test)"
   ]
  },
  {
   "cell_type": "code",
   "execution_count": 93,
   "metadata": {},
   "outputs": [],
   "source": [
    "basic_metrics = pd.DataFrame(classification_report(y_test, y_pred, output_dict = True))\n",
    "basic_metrics = basic_metrics[basic_metrics.columns[:2]]\n",
    "basic_metrics.columns = [1,2]\n",
    "other_metrics = pd.DataFrame(sensitivity_specificity_support(y_test, y_pred), columns=[1,2])\n",
    "other_metrics.index = ['sensitivity','specificity','support']\n",
    "metric = pd.concat([basic_metrics,other_metrics]).drop_duplicates()"
   ]
  },
  {
   "cell_type": "code",
   "execution_count": 95,
   "metadata": {},
   "outputs": [
    {
     "data": {
      "text/html": [
       "<div>\n",
       "<style scoped>\n",
       "    .dataframe tbody tr th:only-of-type {\n",
       "        vertical-align: middle;\n",
       "    }\n",
       "\n",
       "    .dataframe tbody tr th {\n",
       "        vertical-align: top;\n",
       "    }\n",
       "\n",
       "    .dataframe thead th {\n",
       "        text-align: right;\n",
       "    }\n",
       "</style>\n",
       "<table border=\"1\" class=\"dataframe\">\n",
       "  <thead>\n",
       "    <tr style=\"text-align: right;\">\n",
       "      <th></th>\n",
       "      <th>1</th>\n",
       "      <th>2</th>\n",
       "    </tr>\n",
       "  </thead>\n",
       "  <tbody>\n",
       "    <tr>\n",
       "      <th>precision</th>\n",
       "      <td>0.0</td>\n",
       "      <td>0.524194</td>\n",
       "    </tr>\n",
       "    <tr>\n",
       "      <th>recall</th>\n",
       "      <td>0.0</td>\n",
       "      <td>1.000000</td>\n",
       "    </tr>\n",
       "    <tr>\n",
       "      <th>f1-score</th>\n",
       "      <td>0.0</td>\n",
       "      <td>0.687831</td>\n",
       "    </tr>\n",
       "    <tr>\n",
       "      <th>support</th>\n",
       "      <td>649.0</td>\n",
       "      <td>715.000000</td>\n",
       "    </tr>\n",
       "    <tr>\n",
       "      <th>specificity</th>\n",
       "      <td>1.0</td>\n",
       "      <td>0.000000</td>\n",
       "    </tr>\n",
       "  </tbody>\n",
       "</table>\n",
       "</div>"
      ],
      "text/plain": [
       "                 1           2\n",
       "precision      0.0    0.524194\n",
       "recall         0.0    1.000000\n",
       "f1-score       0.0    0.687831\n",
       "support      649.0  715.000000\n",
       "specificity    1.0    0.000000"
      ]
     },
     "execution_count": 95,
     "metadata": {},
     "output_type": "execute_result"
    }
   ],
   "source": [
    "metric"
   ]
  },
  {
   "cell_type": "code",
   "execution_count": null,
   "metadata": {},
   "outputs": [],
   "source": []
  }
 ],
 "metadata": {
  "kernelspec": {
   "display_name": "Python 3",
   "language": "python",
   "name": "python3"
  }
 },
 "nbformat": 4,
 "nbformat_minor": 2
}
