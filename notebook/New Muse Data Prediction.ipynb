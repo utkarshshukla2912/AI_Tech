{
 "cells": [
  {
   "cell_type": "code",
   "execution_count": 52,
   "metadata": {},
   "outputs": [],
   "source": [
    "from sklearn.metrics import confusion_matrix, precision_recall_fscore_support\n",
    "from sklearn.model_selection import train_test_split\n",
    "from sklearn.linear_model import LogisticRegression\n",
    "from sklearn.ensemble import RandomForestClassifier\n",
    "from sklearn.model_selection import train_test_split\n",
    "from sklearn.utils.multiclass import unique_labels\n",
    "from sklearn.preprocessing import StandardScaler\n",
    "from sklearn.tree import DecisionTreeClassifier\n",
    "from features import featureExtractionPipeline\n",
    "from tqdm import tqdm_notebook as tqdm\n",
    "from sklearn.decomposition import PCA\n",
    "import matplotlib.pyplot as plt\n",
    "from scipy.stats import moment\n",
    "import statsmodels.api as sm\n",
    "from sklearn.svm import SVC\n",
    "import pandas as pd\n",
    "import numpy as np\n",
    "import pyeeg\n",
    "import glob\n",
    "import pywt\n",
    "import os\n",
    "\n",
    "from sklearn.neighbors import KNeighborsClassifier"
   ]
  },
  {
   "cell_type": "code",
   "execution_count": 2,
   "metadata": {},
   "outputs": [],
   "source": [
    "def plot_confusion_matrix(y_true, y_pred, classes,\n",
    "                          normalize=False,\n",
    "                          title=None,\n",
    "                          cmap=plt.cm.Blues):\n",
    "    \"\"\"\n",
    "    This function prints and plots the confusion matrix.\n",
    "    Normalization can be applied by setting `normalize=True`.\n",
    "    \"\"\"\n",
    "    if not title:\n",
    "        if normalize:\n",
    "            title = 'Normalized confusion matrix'\n",
    "        else:\n",
    "            title = 'Confusion matrix, without normalization'\n",
    "\n",
    "    # Compute confusion matrix\n",
    "    cm = confusion_matrix(y_true, y_pred)\n",
    "    # Only use the labels that appear in the data\n",
    "    #classes = classes[unique_labels(y_true, y_pred)]\n",
    "    if normalize:\n",
    "        cm = cm.astype('float') / cm.sum(axis=1)[:, np.newaxis]\n",
    "\n",
    "\n",
    "\n",
    "    fig, ax = plt.subplots()\n",
    "    im = ax.imshow(cm, interpolation='nearest', cmap=cmap)\n",
    "    ax.figure.colorbar(im, ax=ax)\n",
    "    # We want to show all ticks...\n",
    "    ax.set(xticks=np.arange(cm.shape[1]),\n",
    "           yticks=np.arange(cm.shape[0]),\n",
    "           # ... and label them with the respective list entries\n",
    "           xticklabels=classes, yticklabels=classes,\n",
    "           title=title,\n",
    "           ylabel='True label',\n",
    "           xlabel='Predicted label')\n",
    "\n",
    "    # Rotate the tick labels and set their alignment.\n",
    "    plt.setp(ax.get_xticklabels(), rotation=45, ha=\"right\",\n",
    "             rotation_mode=\"anchor\")\n",
    "\n",
    "    # Loop over data dimensions and create text annotations.\n",
    "    fmt = '.2f' if normalize else 'd'\n",
    "    thresh = cm.max() / 2.\n",
    "    for i in range(cm.shape[0]):\n",
    "        for j in range(cm.shape[1]):\n",
    "            ax.text(j, i, format(cm[i, j], fmt),\n",
    "                    ha=\"center\", va=\"center\",\n",
    "                    color=\"white\" if cm[i, j] > thresh else \"black\")\n",
    "    fig.tight_layout()\n",
    "    return ax"
   ]
  },
  {
   "cell_type": "code",
   "execution_count": 3,
   "metadata": {},
   "outputs": [],
   "source": [
    "feature_array = []\n",
    "#files = glob.glob('../data/2colours_muse_transition/*.csv')\n",
    "#files = glob.glob('../data/2colours_muse_onlycolor/*.csv')\n",
    "files = glob.glob('../data/2colourswifi_transition/*.csv')"
   ]
  },
  {
   "cell_type": "code",
   "execution_count": 40,
   "metadata": {
    "scrolled": true
   },
   "outputs": [],
   "source": [
    "if not os.path.exists('../objects/feature_array.npy'):\n",
    "    for file in tqdm(files):\n",
    "        try:\n",
    "            data = pd.read_csv(file,header=None)\n",
    "            channels = data[:-1]\n",
    "            label = data.iloc[-1]\n",
    "            label = int(list(set(label))[0])\n",
    "            for i in range(len(channels)):\n",
    "                channel = channels.iloc[i].values\n",
    "                channel_features = featureExtractionPipeline(channel,fs=1000).runPipeline()\n",
    "                feature_array.append([channel_features,label])\n",
    "        except Exception as e:\n",
    "            print(e,'\\n',file)\n",
    "else:\n",
    "    feature_array = np.load('../objects/feature_array.npy')"
   ]
  },
  {
   "cell_type": "code",
   "execution_count": 44,
   "metadata": {},
   "outputs": [],
   "source": [
    "feature_array = np.array(feature_array)\n",
    "data = feature_array[:,0]\n",
    "labels = feature_array[:,1]"
   ]
  },
  {
   "cell_type": "code",
   "execution_count": 47,
   "metadata": {},
   "outputs": [
    {
     "data": {
      "text/plain": [
       "3088"
      ]
     },
     "execution_count": 47,
     "metadata": {},
     "output_type": "execute_result"
    }
   ],
   "source": []
  },
  {
   "cell_type": "code",
   "execution_count": 5,
   "metadata": {},
   "outputs": [],
   "source": [
    "feature_array = feature_array.tolist()"
   ]
  },
  {
   "cell_type": "code",
   "execution_count": 6,
   "metadata": {},
   "outputs": [],
   "source": [
    "X = []\n",
    "y = []\n",
    "for i in feature_array:\n",
    "    X.append(i[0])\n",
    "    y.append(i[1])"
   ]
  },
  {
   "cell_type": "code",
   "execution_count": 7,
   "metadata": {},
   "outputs": [],
   "source": [
    "X = np.nan_to_num(X)\n",
    "X_scaled = StandardScaler().fit_transform(X)"
   ]
  },
  {
   "cell_type": "code",
   "execution_count": 8,
   "metadata": {
    "scrolled": true
   },
   "outputs": [
    {
     "name": "stdout",
     "output_type": "stream",
     "text": [
      "                            OLS Regression Results                            \n",
      "==============================================================================\n",
      "Dep. Variable:                      y   R-squared:                       0.031\n",
      "Model:                            OLS   Adj. R-squared:                  0.022\n",
      "Method:                 Least Squares   F-statistic:                     3.480\n",
      "Date:                Thu, 29 Aug 2019   Prob (F-statistic):           1.99e-09\n",
      "Time:                        01:30:42   Log-Likelihood:                -2192.8\n",
      "No. Observations:                3088   AIC:                             4444.\n",
      "Df Residuals:                    3059   BIC:                             4619.\n",
      "Df Model:                          28                                         \n",
      "Covariance Type:            nonrobust                                         \n",
      "==============================================================================\n",
      "                 coef    std err          t      P>|t|      [0.025      0.975]\n",
      "------------------------------------------------------------------------------\n",
      "x1             0.2669      0.235      1.134      0.257      -0.194       0.728\n",
      "x2             0.2916      0.488      0.598      0.550      -0.665       1.248\n",
      "x3            -2.2843      0.667     -3.424      0.001      -3.592      -0.976\n",
      "x4             0.3815      0.255      1.497      0.134      -0.118       0.881\n",
      "x5             1.0510      0.206      5.092      0.000       0.646       1.456\n",
      "x6             2.0524      0.513      4.002      0.000       1.047       3.058\n",
      "x7             1.1040      0.955      1.156      0.248      -0.768       2.976\n",
      "x8             1.4809      0.208      7.116      0.000       1.073       1.889\n",
      "x9             0.0499      0.096      0.520      0.603      -0.138       0.238\n",
      "x10           -0.1455      0.296     -0.491      0.623      -0.726       0.435\n",
      "x11           -0.1047      0.513     -0.204      0.838      -1.111       0.901\n",
      "x12            0.0244      0.091      0.269      0.788      -0.153       0.202\n",
      "x13            0.0889      0.071      1.250      0.211      -0.051       0.228\n",
      "x14            0.0527      0.041      1.283      0.200      -0.028       0.133\n",
      "x15           -1.7552      2.133     -0.823      0.411      -5.938       2.428\n",
      "x16        -8.797e-06   1.53e-05     -0.577      0.564   -3.87e-05    2.11e-05\n",
      "x17            0.0955      0.022      4.380      0.000       0.053       0.138\n",
      "x18           -0.5839      0.710     -0.822      0.411      -1.976       0.808\n",
      "x19           -0.0013      0.106     -0.012      0.991      -0.209       0.206\n",
      "x20         -4.97e-07   2.03e-06     -0.245      0.806   -4.47e-06    3.48e-06\n",
      "x21           28.2381     11.983      2.357      0.019       4.743      51.733\n",
      "x22           -0.0031      0.009     -0.353      0.724      -0.020       0.014\n",
      "x23            3.5072     15.692      0.224      0.823     -27.260      34.275\n",
      "x24           10.0518      3.572      2.814      0.005       3.048      17.056\n",
      "x25           -6.5422      3.768     -1.736      0.083     -13.929       0.845\n",
      "x26            3.0651      6.959      0.440      0.660     -10.580      16.710\n",
      "x27        -1.034e+04   2.03e+04     -0.510      0.610   -5.01e+04    2.94e+04\n",
      "x28         2.358e+05   4.69e+05      0.503      0.615   -6.83e+05    1.15e+06\n",
      "x29           -0.1615      0.136     -1.184      0.237      -0.429       0.106\n",
      "==============================================================================\n",
      "Omnibus:                        0.000   Durbin-Watson:                   0.147\n",
      "Prob(Omnibus):                  1.000   Jarque-Bera (JB):              458.401\n",
      "Skew:                           0.001   Prob(JB):                    2.88e-100\n",
      "Kurtosis:                       1.112   Cond. No.                     5.11e+11\n",
      "==============================================================================\n",
      "\n",
      "Warnings:\n",
      "[1] Standard Errors assume that the covariance matrix of the errors is correctly specified.\n",
      "[2] The smallest eigenvalue is 1.11e-12. This might indicate that there are\n",
      "strong multicollinearity problems or that the design matrix is singular.\n"
     ]
    }
   ],
   "source": [
    "mod = sm.OLS(y, X)\n",
    "res = mod.fit()\n",
    "print(res.summary())"
   ]
  },
  {
   "cell_type": "code",
   "execution_count": 55,
   "metadata": {},
   "outputs": [],
   "source": [
    "new_X = []\n",
    "feature_to_consider = [3,5,6,8,17,21,24,25]\n",
    "for i in X:\n",
    "    temp = []\n",
    "    for j in feature_to_consider:\n",
    "        temp.append(i[j-1])\n",
    "    new_X.append(temp)"
   ]
  },
  {
   "cell_type": "code",
   "execution_count": 56,
   "metadata": {},
   "outputs": [],
   "source": [
    "x_train,x_test,y_train,y_test = train_test_split(new_X,y)"
   ]
  },
  {
   "cell_type": "code",
   "execution_count": 57,
   "metadata": {},
   "outputs": [
    {
     "data": {
      "text/plain": [
       "(array([0.51958225, 0.55526992]),\n",
       " array([0.53494624, 0.54      ]),\n",
       " array([0.52715232, 0.54752852]),\n",
       " array([372, 400]))"
      ]
     },
     "execution_count": 57,
     "metadata": {},
     "output_type": "execute_result"
    }
   ],
   "source": [
    "model = KNeighborsClassifier(n_neighbors = 3)\n",
    "model.fit(x_train,y_train)\n",
    "pred = model.predict(x_test)\n",
    "precision_recall_fscore_support(pred,y_test)"
   ]
  },
  {
   "cell_type": "code",
   "execution_count": 58,
   "metadata": {},
   "outputs": [
    {
     "data": {
      "text/plain": [
       "<matplotlib.axes._subplots.AxesSubplot at 0x123b61ba8>"
      ]
     },
     "execution_count": 58,
     "metadata": {},
     "output_type": "execute_result"
    },
    {
     "data": {
      "image/png": "[encoded data removed]",
      "text/plain": [
       "<Figure size 432x288 with 2 Axes>"
      ]
     },
     "metadata": {
      "needs_background": "light"
     },
     "output_type": "display_data"
    }
   ],
   "source": [
    "plot_confusion_matrix(y_test, model.predict(x_test), [0,1],\n",
    "                          normalize=False,\n",
    "                          title=None,\n",
    "                          cmap=plt.cm.Blues)"
   ]
  },
  {
   "cell_type": "code",
   "execution_count": 59,
   "metadata": {},
   "outputs": [
    {
     "ename": "AttributeError",
     "evalue": "'KNeighborsClassifier' object has no attribute 'feature_importances_'",
     "output_type": "error",
     "traceback": [
      "\u001b[0;31m---------------------------------------------------------------------------\u001b[0m",
      "\u001b[0;31mAttributeError\u001b[0m                            Traceback (most recent call last)",
      "\u001b[0;32m<ipython-input-59-dffea599dbe6>\u001b[0m in \u001b[0;36m<module>\u001b[0;34m()\u001b[0m\n\u001b[0;32m----> 1\u001b[0;31m \u001b[0mplt\u001b[0m\u001b[0;34m.\u001b[0m\u001b[0mplot\u001b[0m\u001b[0;34m(\u001b[0m\u001b[0mmodel\u001b[0m\u001b[0;34m.\u001b[0m\u001b[0mfeature_importances_\u001b[0m\u001b[0;34m)\u001b[0m\u001b[0;34m\u001b[0m\u001b[0m\n\u001b[0m",
      "\u001b[0;31mAttributeError\u001b[0m: 'KNeighborsClassifier' object has no attribute 'feature_importances_'"
     ]
    }
   ],
   "source": []
  },
  {
   "cell_type": "code",
   "execution_count": null,
   "metadata": {},
   "outputs": [],
   "source": []
  },
  {
   "cell_type": "code",
   "execution_count": null,
   "metadata": {},
   "outputs": [],
   "source": []
  }
 ],
 "metadata": {
  "kernelspec": {
   "display_name": "Python 3",
   "language": "python",
   "name": "python3"
  },
  "language_info": {
   "codemirror_mode": {
    "name": "ipython",
    "version": 3
   },
   "file_extension": ".py",
   "mimetype": "text/x-python",
   "name": "python",
   "nbconvert_exporter": "python",
   "pygments_lexer": "ipython3",
   "version": "3.6.6"
  }
 },
 "nbformat": 4,
 "nbformat_minor": 2
}
