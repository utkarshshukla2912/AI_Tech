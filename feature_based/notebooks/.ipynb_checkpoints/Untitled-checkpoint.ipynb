{
 "cells": [
  {
   "cell_type": "code",
   "execution_count": 1,
   "metadata": {},
   "outputs": [],
   "source": [
    "from scipy.signal import coherence\n",
    "import matplotlib.pyplot as plt\n",
    "from tqdm import tqdm\n",
    "import pandas as pd\n",
    "import numpy as np\n",
    "import warnings\n",
    "import logging\n",
    "import pyeeg\n",
    "import nolds\n",
    "import math\n",
    "import pywt\n",
    "import glob\n",
    "import json\n",
    "import os\n",
    "warnings.filterwarnings('ignore')"
   ]
  },
  {
   "cell_type": "code",
   "execution_count": 2,
   "metadata": {},
   "outputs": [],
   "source": [
    "features = np.load('../objects/features_per_channel.npy')\n",
    "label = np.load('../objects/label_per_channel.npy')"
   ]
  },
  {
   "cell_type": "code",
   "execution_count": 137,
   "metadata": {},
   "outputs": [
    {
     "data": {
      "text/plain": [
       "[30018.259193319685,\n",
       " 16714.632197407795,\n",
       " 12063.170225610573,\n",
       " 32139.319006791608,\n",
       " 0.33010538898744607,\n",
       " 0.1838077993721663,\n",
       " 0.13265650996288098,\n",
       " 0.3534303016775066,\n",
       " -446478.1599164957,\n",
       " -234486.6331316046,\n",
       " -163556.33998437776,\n",
       " -481191.54705571354,\n",
       " 0.9643604523384804,\n",
       " 0.9202976363471516,\n",
       " 0.0010010402193444323,\n",
       " 998.2803252936653,\n",
       " 1.0551326559734895,\n",
       " -44872.288077746896,\n",
       " 0.5467894921816655,\n",
       " 2013522922434041.8,\n",
       " 26.174448233031242]"
      ]
     },
     "execution_count": 137,
     "metadata": {},
     "output_type": "execute_result"
    }
   ],
   "source": []
  },
  {
   "cell_type": "code",
   "execution_count": 130,
   "metadata": {},
   "outputs": [],
   "source": [
    "l = []\n",
    "for i in temp:\n",
    "    for j in i:\n",
    "        l.append(j)"
   ]
  },
  {
   "cell_type": "code",
   "execution_count": 131,
   "metadata": {},
   "outputs": [
    {
     "data": {
      "text/plain": [
       "[30018.259193319685,\n",
       " 16714.632197407795,\n",
       " 12063.170225610573,\n",
       " 32139.319006791608,\n",
       " 0.33010538898744607,\n",
       " 0.1838077993721663,\n",
       " 0.13265650996288098,\n",
       " 0.3534303016775066,\n",
       " -446478.1599164957,\n",
       " -234486.6331316046,\n",
       " -163556.33998437776,\n",
       " -481191.54705571354,\n",
       " 0.9643604523384804,\n",
       " 0.9202976363471516,\n",
       " 0.0010010402193444323,\n",
       " 998.2803252936653,\n",
       " 1.0551326559734895,\n",
       " -44872.288077746896,\n",
       " 0.5467894921816655,\n",
       " 2013522922434041.8,\n",
       " 26.174448233031242]"
      ]
     },
     "execution_count": 131,
     "metadata": {},
     "output_type": "execute_result"
    }
   ],
   "source": [
    "l"
   ]
  },
  {
   "cell_type": "code",
   "execution_count": null,
   "metadata": {},
   "outputs": [],
   "source": []
  }
 ],
 "metadata": {
  "kernelspec": {
   "display_name": "Python 3",
   "language": "python",
   "name": "python3"
  },
  "language_info": {
   "codemirror_mode": {
    "name": "ipython",
    "version": 3
   },
   "file_extension": ".py",
   "mimetype": "text/x-python",
   "name": "python",
   "nbconvert_exporter": "python",
   "pygments_lexer": "ipython3",
   "version": "3.6.0"
  }
 },
 "nbformat": 4,
 "nbformat_minor": 2
}
